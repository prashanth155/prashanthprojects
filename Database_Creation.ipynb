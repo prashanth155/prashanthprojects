{
  "cells": [
    {
      "cell_type": "code",
      "execution_count": 1,
      "metadata": {
        "id": "OWlu8Ei0r5e4"
      },
      "outputs": [],
      "source": [
        "from google.colab import drive"
      ]
    },
    {
      "cell_type": "code",
      "execution_count": 2,
      "metadata": {
        "colab": {
          "base_uri": "https://localhost:8080/"
        },
        "id": "IoHC_Jyc1jIj",
        "outputId": "f624dca7-1460-4617-a8a6-efae8c969636"
      },
      "outputs": [
        {
          "output_type": "stream",
          "name": "stdout",
          "text": [
            "Mounted at /content/drive\n"
          ]
        }
      ],
      "source": [
        "drive.mount('/content/drive')"
      ]
    },
    {
      "cell_type": "code",
      "execution_count": 3,
      "metadata": {
        "id": "cdkSFpeBlxVe"
      },
      "outputs": [],
      "source": [
        "import os\n",
        "import pandas as pd"
      ]
    },
    {
      "cell_type": "code",
      "source": [],
      "metadata": {
        "id": "yEdRBGVB_B_Y"
      },
      "execution_count": null,
      "outputs": []
    },
    {
      "cell_type": "markdown",
      "source": [
        "Each News text and corresponding summary is saved in seperate text files in seperate folders titled 'News' and 'Summary'. Moreover, there are 5 different news categories; Business, Politics, Entertainment, Sports, Tech. All of this data has to be collated into one csv file. Due to organization of those files and folders, the task has to be divided into 2 groups."
      ],
      "metadata": {
        "id": "Kt6RIwPr_Dah"
      }
    },
    {
      "cell_type": "code",
      "source": [],
      "metadata": {
        "id": "DfwEOUDH_BQo"
      },
      "execution_count": null,
      "outputs": []
    },
    {
      "cell_type": "markdown",
      "metadata": {
        "id": "dc66kTswmwSH"
      },
      "source": [
        "### **GROUP 1**"
      ]
    },
    {
      "cell_type": "code",
      "execution_count": 4,
      "metadata": {
        "id": "dQPjJnpwmvio"
      },
      "outputs": [],
      "source": [
        "news_entries = os.listdir('/content/drive/MyDrive/BBC News Summary/BBC News Summary/News Articles/business/')"
      ]
    },
    {
      "cell_type": "code",
      "execution_count": 5,
      "metadata": {
        "id": "i-kWewYgmvlu"
      },
      "outputs": [],
      "source": [
        "summ_entries = os.listdir('/content/drive/MyDrive/BBC News Summary/BBC News Summary/Summaries/business/')"
      ]
    },
    {
      "cell_type": "code",
      "execution_count": 6,
      "metadata": {
        "colab": {
          "base_uri": "https://localhost:8080/"
        },
        "id": "pAam4z0Hmvop",
        "outputId": "a7e49abb-3959-4016-be17-66771218f10c"
      },
      "outputs": [
        {
          "output_type": "execute_result",
          "data": {
            "text/plain": [
              "510"
            ]
          },
          "metadata": {},
          "execution_count": 6
        }
      ],
      "source": [
        "len(news_entries)"
      ]
    },
    {
      "cell_type": "code",
      "execution_count": 7,
      "metadata": {
        "colab": {
          "base_uri": "https://localhost:8080/"
        },
        "id": "ka-tGZV3mvq3",
        "outputId": "91ca6ca4-8ab6-4848-82e8-234276dab87f"
      },
      "outputs": [
        {
          "output_type": "execute_result",
          "data": {
            "text/plain": [
              "510"
            ]
          },
          "metadata": {},
          "execution_count": 7
        }
      ],
      "source": [
        "len(summ_entries)"
      ]
    },
    {
      "cell_type": "code",
      "execution_count": 9,
      "metadata": {
        "id": "KIZX_ywmo6jq"
      },
      "outputs": [],
      "source": [
        "df = pd.DataFrame(columns = ['News', 'Summary', 'Field'])"
      ]
    },
    {
      "cell_type": "code",
      "execution_count": null,
      "metadata": {
        "id": "ybgdq2YImvuV"
      },
      "outputs": [],
      "source": [
        "for i in range(len(news_entries)):\n",
        "  fn = '/content/drive/MyDrive/BBC News Summary/BBC News Summary/News Articles/business/' + news_entries[i]\n",
        "  fs = '/content/drive/MyDrive/BBC News Summary/BBC News Summary/Summaries/business/' + news_entries[i]\n",
        "  # print(entries[i])\n",
        "  fln = open(fn, 'r')\n",
        "  fls = open(fs, 'r')\n",
        "  news = ''\n",
        "  for each in fln:\n",
        "    news = news + each\n",
        "\n",
        "  summ = ''\n",
        "  for each2 in fls:\n",
        "    summ = summ + each2\n",
        "\n",
        "  df.loc[len(df.index)] = [news, summ, 'Business']"
      ]
    },
    {
      "cell_type": "code",
      "execution_count": null,
      "metadata": {
        "id": "LIuDtYutqduY"
      },
      "outputs": [],
      "source": [
        "news_entries = os.listdir('/content/drive/MyDrive/BBC News Summary/BBC News Summary/News Articles/entertainment/')\n",
        "summ_entries = os.listdir('/content/drive/MyDrive/BBC News Summary/BBC News Summary/Summaries/entertainment/')\n",
        "\n",
        "for i in range(len(news_entries)):\n",
        "  fn = '/content/drive/MyDrive/BBC News Summary/BBC News Summary/News Articles/entertainment/' + news_entries[i]\n",
        "  fs = '/content/drive/MyDrive/BBC News Summary/BBC News Summary/Summaries/entertainment/' + news_entries[i]\n",
        "  # print(entries[i])\n",
        "  fln = open(fn, 'r')\n",
        "  fls = open(fs, 'r')\n",
        "  news = ''\n",
        "  for each in fln:\n",
        "    news = news + each\n",
        "\n",
        "  summ = ''\n",
        "  for each2 in fls:\n",
        "    summ = summ + each2\n",
        "\n",
        "  df.loc[len(df.index)] = [news, summ, 'Entertainment']"
      ]
    },
    {
      "cell_type": "code",
      "execution_count": null,
      "metadata": {
        "id": "JSdfvc9vqnEV"
      },
      "outputs": [],
      "source": [
        "news_entries = os.listdir('/content/drive/MyDrive/BBC News Summary/BBC News Summary/News Articles/politics/')\n",
        "summ_entries = os.listdir('/content/drive/MyDrive/BBC News Summary/BBC News Summary/Summaries/politics/')\n",
        "\n",
        "for i in range(len(news_entries)):\n",
        "  fn = '/content/drive/MyDrive/BBC News Summary/BBC News Summary/News Articles/politics/' + news_entries[i]\n",
        "  fs = '/content/drive/MyDrive/BBC News Summary/BBC News Summary/Summaries/politics/' + summ_entries[i]\n",
        "  # print(entries[i])\n",
        "  fln = open(fn, 'r')\n",
        "  fls = open(fs, 'r')\n",
        "  news = ''\n",
        "  for each in fln:\n",
        "    news = news + each\n",
        "\n",
        "  summ = ''\n",
        "  for each2 in fls:\n",
        "    summ = summ + each2\n",
        "\n",
        "  df.loc[len(df.index)] = [news, summ, 'Politics']"
      ]
    },
    {
      "cell_type": "code",
      "execution_count": null,
      "metadata": {
        "id": "AxuSjzz5qqg9"
      },
      "outputs": [],
      "source": [
        "news_entries = os.listdir('/content/drive/MyDrive/BBC News Summary/BBC News Summary/News Articles/sport/')\n",
        "summ_entries = os.listdir('/content/drive/MyDrive/BBC News Summary/BBC News Summary/Summaries/sport/')\n",
        "\n",
        "for i in range(len(news_entries)):\n",
        "  fn = '/content/drive/MyDrive/BBC News Summary/BBC News Summary/News Articles/sport/' + news_entries[i]\n",
        "  fs = '/content/drive/MyDrive/BBC News Summary/BBC News Summary/Summaries/sport/' + news_entries[i]\n",
        "  # print(entries[i])\n",
        "  fln = open(fn, 'r')\n",
        "  fls = open(fs, 'r')\n",
        "  news = ''\n",
        "  for each in fln:\n",
        "    news = news + each\n",
        "\n",
        "  summ = ''\n",
        "  for each2 in fls:\n",
        "    summ = summ + each2\n",
        "\n",
        "  df.loc[len(df.index)] = [news, summ, 'Sport']"
      ]
    },
    {
      "cell_type": "code",
      "execution_count": null,
      "metadata": {
        "id": "llt_edmZqqkX"
      },
      "outputs": [],
      "source": [
        "news_entries = os.listdir('/content/drive/MyDrive/BBC News Summary/BBC News Summary/News Articles/tech/')\n",
        "summ_entries = os.listdir('/content/drive/MyDrive/BBC News Summary/BBC News Summary/Summaries/tech/')\n",
        "\n",
        "for i in range(len(news_entries)):\n",
        "  fn = '/content/drive/MyDrive/BBC News Summary/BBC News Summary/News Articles/tech/' + news_entries[i]\n",
        "  fs = '/content/drive/MyDrive/BBC News Summary/BBC News Summary/Summaries/tech/' + news_entries[i]\n",
        "  # print(entries[i])\n",
        "  fln = open(fn, 'r')\n",
        "  fls = open(fs, 'r')\n",
        "  news = ''\n",
        "  for each in fln:\n",
        "    news = news + each\n",
        "\n",
        "  summ = ''\n",
        "  for each2 in fls:\n",
        "    summ = summ + each2\n",
        "\n",
        "  df.loc[len(df.index)] = [news, summ, 'Tech']"
      ]
    },
    {
      "cell_type": "code",
      "execution_count": null,
      "metadata": {
        "id": "-NdGCMzpqqmt"
      },
      "outputs": [],
      "source": []
    },
    {
      "cell_type": "markdown",
      "metadata": {
        "id": "RxHRUCBTrFdE"
      },
      "source": [
        "### **GROUP 2**"
      ]
    },
    {
      "cell_type": "code",
      "execution_count": null,
      "metadata": {
        "id": "BAbTMMivrRi6"
      },
      "outputs": [],
      "source": [
        "news_entries = os.listdir('/content/drive/MyDrive/BBC News Summary/News Articles/business/')\n",
        "summ_entries = os.listdir('/content/drive/MyDrive/BBC News Summary/Summaries/business/')\n",
        "\n",
        "for i in range(len(news_entries)):\n",
        "  fn = '/content/drive/MyDrive/BBC News Summary/News Articles/business/' + news_entries[i]\n",
        "  fs = '/content/drive/MyDrive/BBC News Summary/Summaries/business/' + news_entries[i]\n",
        "  # print(entries[i])\n",
        "  fln = open(fn, 'r')\n",
        "  fls = open(fs, 'r')\n",
        "  news = ''\n",
        "  for each in fln:\n",
        "    news = news + each\n",
        "\n",
        "  summ = ''\n",
        "  for each2 in fls:\n",
        "    summ = summ + each2\n",
        "\n",
        "  df.loc[len(df.index)] = [news, summ, 'Business']"
      ]
    },
    {
      "cell_type": "code",
      "execution_count": null,
      "metadata": {
        "id": "clgf074zrRqb"
      },
      "outputs": [],
      "source": [
        "news_entries = os.listdir('/content/drive/MyDrive/BBC News Summary/News Articles/entertainment/')\n",
        "summ_entries = os.listdir('/content/drive/MyDrive/BBC News Summary/Summaries/entertainment/')\n",
        "\n",
        "for i in range(len(news_entries)):\n",
        "  fn = '/content/drive/MyDrive/BBC News Summary/News Articles/entertainment/' + news_entries[i]\n",
        "  fs = '/content/drive/MyDrive/BBC News Summary/Summaries/entertainment/' + news_entries[i]\n",
        "  # print(entries[i])\n",
        "  fln = open(fn, 'r')\n",
        "  fls = open(fs, 'r')\n",
        "  news = ''\n",
        "  for each in fln:\n",
        "    news = news + each\n",
        "\n",
        "  summ = ''\n",
        "  for each2 in fls:\n",
        "    summ = summ + each2\n",
        "\n",
        "  df.loc[len(df.index)] = [news, summ, 'Entertainment']"
      ]
    },
    {
      "cell_type": "code",
      "execution_count": null,
      "metadata": {
        "id": "UKazPZYYrc0g"
      },
      "outputs": [],
      "source": [
        "news_entries = os.listdir('/content/drive/MyDrive/BBC News Summary/News Articles/politics/')\n",
        "summ_entries = os.listdir('/content/drive/MyDrive/BBC News Summary/Summaries/politics/')\n",
        "\n",
        "for i in range(len(news_entries)):\n",
        "  fn = '/content/drive/MyDrive/BBC News Summary/News Articles/politics/' + news_entries[i]\n",
        "  fs = '/content/drive/MyDrive/BBC News Summary/Summaries/politics/' + news_entries[i]\n",
        "  # print(entries[i])\n",
        "  fln = open(fn, 'r')\n",
        "  fls = open(fs, 'r')\n",
        "  news = ''\n",
        "  for each in fln:\n",
        "    news = news + each\n",
        "\n",
        "  summ = ''\n",
        "  for each2 in fls:\n",
        "    summ = summ + each2\n",
        "\n",
        "  df.loc[len(df.index)] = [news, summ, 'Politics']"
      ]
    },
    {
      "cell_type": "code",
      "execution_count": null,
      "metadata": {
        "id": "HdlLlJYUrh-M"
      },
      "outputs": [],
      "source": [
        "news_entries = os.listdir('/content/drive/MyDrive/BBC News Summary/News Articles/sport/')\n",
        "summ_entries = os.listdir('/content/drive/MyDrive/BBC News Summary/Summaries/sport/')\n",
        "\n",
        "for i in range(len(news_entries)):\n",
        "  fn = '/content/drive/MyDrive/BBC News Summary/News Articles/sport/' + news_entries[i]\n",
        "  fs = '/content/drive/MyDrive/BBC News Summary/Summaries/sport/' + news_entries[i]\n",
        "  # print(entries[i])\n",
        "  fln = open(fn, 'r')\n",
        "  fls = open(fs, 'r')\n",
        "  news = ''\n",
        "  for each in fln:\n",
        "    news = news + each\n",
        "\n",
        "  summ = ''\n",
        "  for each2 in fls:\n",
        "    summ = summ + each2\n",
        "\n",
        "  df.loc[len(df.index)] = [news, summ, 'Sport']"
      ]
    },
    {
      "cell_type": "code",
      "execution_count": null,
      "metadata": {
        "id": "GaWLfByYqqpz"
      },
      "outputs": [],
      "source": [
        "news_entries = os.listdir('/content/drive/MyDrive/BBC News Summary/News Articles/tech/')\n",
        "summ_entries = os.listdir('/content/drive/MyDrive/BBC News Summary/Summaries/tech/')\n",
        "\n",
        "for i in range(len(news_entries)):\n",
        "  fn = '/content/drive/MyDrive/BBC News Summary/News Articles/tech/' + news_entries[i]\n",
        "  fs = '/content/drive/MyDrive/BBC News Summary/Summaries/tech/' + news_entries[i]\n",
        "  # print(entries[i])\n",
        "  fln = open(fn, 'r')\n",
        "  fls = open(fs, 'r')\n",
        "  news = ''\n",
        "  for each in fln:\n",
        "    news = news + each\n",
        "\n",
        "  summ = ''\n",
        "  for each2 in fls:\n",
        "    summ = summ + each2\n",
        "\n",
        "  df.loc[len(df.index)] = [news, summ, 'Tech']"
      ]
    },
    {
      "cell_type": "markdown",
      "source": [
        "Finally the collated dataset has 3848 data samples."
      ],
      "metadata": {
        "id": "bpCHm4RqBCaL"
      }
    },
    {
      "cell_type": "code",
      "execution_count": null,
      "metadata": {
        "colab": {
          "base_uri": "https://localhost:8080/",
          "height": 641
        },
        "id": "WBzkNBAdqqz4",
        "outputId": "c6445c39-bf74-4856-b525-2786ff8a9314"
      },
      "outputs": [
        {
          "data": {
            "text/html": [
              "\n",
              "\n",
              "  <div id=\"df-e02a3c58-fc80-411a-8dbf-6d6fcbd21743\">\n",
              "    <div class=\"colab-df-container\">\n",
              "      <div>\n",
              "<style scoped>\n",
              "    .dataframe tbody tr th:only-of-type {\n",
              "        vertical-align: middle;\n",
              "    }\n",
              "\n",
              "    .dataframe tbody tr th {\n",
              "        vertical-align: top;\n",
              "    }\n",
              "\n",
              "    .dataframe thead th {\n",
              "        text-align: right;\n",
              "    }\n",
              "</style>\n",
              "<table border=\"1\" class=\"dataframe\">\n",
              "  <thead>\n",
              "    <tr style=\"text-align: right;\">\n",
              "      <th></th>\n",
              "      <th>News</th>\n",
              "      <th>Summary</th>\n",
              "      <th>Field</th>\n",
              "    </tr>\n",
              "  </thead>\n",
              "  <tbody>\n",
              "    <tr>\n",
              "      <th>0</th>\n",
              "      <td>Peugeot deal boosts Mitsubishi\\n\\nStruggling J...</td>\n",
              "      <td>Struggling Japanese car maker Mitsubishi Motor...</td>\n",
              "      <td>Business</td>\n",
              "    </tr>\n",
              "    <tr>\n",
              "      <th>1</th>\n",
              "      <td>Jobs growth still slow in the US\\n\\nThe US cre...</td>\n",
              "      <td>The job gains mean that President Bush can cel...</td>\n",
              "      <td>Business</td>\n",
              "    </tr>\n",
              "    <tr>\n",
              "      <th>2</th>\n",
              "      <td>Call centre users 'lose patience'\\n\\nCustomers...</td>\n",
              "      <td>The drop in patience comes as the number of ca...</td>\n",
              "      <td>Business</td>\n",
              "    </tr>\n",
              "    <tr>\n",
              "      <th>3</th>\n",
              "      <td>Yukos unit buyer faces loan claim\\n\\nThe owner...</td>\n",
              "      <td>Yukos' owner Menatep Group says it will ask Ro...</td>\n",
              "      <td>Business</td>\n",
              "    </tr>\n",
              "    <tr>\n",
              "      <th>4</th>\n",
              "      <td>Ad sales boost Time Warner profit\\n\\nQuarterly...</td>\n",
              "      <td>TimeWarner said fourth quarter sales rose 2% t...</td>\n",
              "      <td>Business</td>\n",
              "    </tr>\n",
              "    <tr>\n",
              "      <th>...</th>\n",
              "      <td>...</td>\n",
              "      <td>...</td>\n",
              "      <td>...</td>\n",
              "    </tr>\n",
              "    <tr>\n",
              "      <th>3843</th>\n",
              "      <td>US cyber security chief resigns\\n\\nThe man mak...</td>\n",
              "      <td>Amit Yoran was director of the National Cyber ...</td>\n",
              "      <td>Tech</td>\n",
              "    </tr>\n",
              "    <tr>\n",
              "      <th>3844</th>\n",
              "      <td>New consoles promise big problems\\n\\nMaking ga...</td>\n",
              "      <td>Mr Walsh suggested that new studios should mak...</td>\n",
              "      <td>Tech</td>\n",
              "    </tr>\n",
              "    <tr>\n",
              "      <th>3845</th>\n",
              "      <td>Be careful how you code\\n\\nA new European dire...</td>\n",
              "      <td>This goes to the heart of the European project...</td>\n",
              "      <td>Tech</td>\n",
              "    </tr>\n",
              "    <tr>\n",
              "      <th>3846</th>\n",
              "      <td>BT program to beat dialler scams\\n\\nBT is intr...</td>\n",
              "      <td>BT is introducing two initiatives to help beat...</td>\n",
              "      <td>Tech</td>\n",
              "    </tr>\n",
              "    <tr>\n",
              "      <th>3847</th>\n",
              "      <td>TV's future down the phone line\\n\\nInternet TV...</td>\n",
              "      <td>Last year, he said, was all about deal making ...</td>\n",
              "      <td>Tech</td>\n",
              "    </tr>\n",
              "  </tbody>\n",
              "</table>\n",
              "<p>3848 rows × 3 columns</p>\n",
              "</div>\n",
              "      <button class=\"colab-df-convert\" onclick=\"convertToInteractive('df-e02a3c58-fc80-411a-8dbf-6d6fcbd21743')\"\n",
              "              title=\"Convert this dataframe to an interactive table.\"\n",
              "              style=\"display:none;\">\n",
              "\n",
              "  <svg xmlns=\"http://www.w3.org/2000/svg\" height=\"24px\"viewBox=\"0 0 24 24\"\n",
              "       width=\"24px\">\n",
              "    <path d=\"M0 0h24v24H0V0z\" fill=\"none\"/>\n",
              "    <path d=\"M18.56 5.44l.94 2.06.94-2.06 2.06-.94-2.06-.94-.94-2.06-.94 2.06-2.06.94zm-11 1L8.5 8.5l.94-2.06 2.06-.94-2.06-.94L8.5 2.5l-.94 2.06-2.06.94zm10 10l.94 2.06.94-2.06 2.06-.94-2.06-.94-.94-2.06-.94 2.06-2.06.94z\"/><path d=\"M17.41 7.96l-1.37-1.37c-.4-.4-.92-.59-1.43-.59-.52 0-1.04.2-1.43.59L10.3 9.45l-7.72 7.72c-.78.78-.78 2.05 0 2.83L4 21.41c.39.39.9.59 1.41.59.51 0 1.02-.2 1.41-.59l7.78-7.78 2.81-2.81c.8-.78.8-2.07 0-2.86zM5.41 20L4 18.59l7.72-7.72 1.47 1.35L5.41 20z\"/>\n",
              "  </svg>\n",
              "      </button>\n",
              "\n",
              "\n",
              "\n",
              "    <div id=\"df-a0bf0bf2-f1ce-4eb3-8730-f1dfe7184ebc\">\n",
              "      <button class=\"colab-df-quickchart\" onclick=\"quickchart('df-a0bf0bf2-f1ce-4eb3-8730-f1dfe7184ebc')\"\n",
              "              title=\"Suggest charts.\"\n",
              "              style=\"display:none;\">\n",
              "\n",
              "<svg xmlns=\"http://www.w3.org/2000/svg\" height=\"24px\"viewBox=\"0 0 24 24\"\n",
              "     width=\"24px\">\n",
              "    <g>\n",
              "        <path d=\"M19 3H5c-1.1 0-2 .9-2 2v14c0 1.1.9 2 2 2h14c1.1 0 2-.9 2-2V5c0-1.1-.9-2-2-2zM9 17H7v-7h2v7zm4 0h-2V7h2v10zm4 0h-2v-4h2v4z\"/>\n",
              "    </g>\n",
              "</svg>\n",
              "      </button>\n",
              "    </div>\n",
              "\n",
              "<style>\n",
              "  .colab-df-quickchart {\n",
              "    background-color: #E8F0FE;\n",
              "    border: none;\n",
              "    border-radius: 50%;\n",
              "    cursor: pointer;\n",
              "    display: none;\n",
              "    fill: #1967D2;\n",
              "    height: 32px;\n",
              "    padding: 0 0 0 0;\n",
              "    width: 32px;\n",
              "  }\n",
              "\n",
              "  .colab-df-quickchart:hover {\n",
              "    background-color: #E2EBFA;\n",
              "    box-shadow: 0px 1px 2px rgba(60, 64, 67, 0.3), 0px 1px 3px 1px rgba(60, 64, 67, 0.15);\n",
              "    fill: #174EA6;\n",
              "  }\n",
              "\n",
              "  [theme=dark] .colab-df-quickchart {\n",
              "    background-color: #3B4455;\n",
              "    fill: #D2E3FC;\n",
              "  }\n",
              "\n",
              "  [theme=dark] .colab-df-quickchart:hover {\n",
              "    background-color: #434B5C;\n",
              "    box-shadow: 0px 1px 3px 1px rgba(0, 0, 0, 0.15);\n",
              "    filter: drop-shadow(0px 1px 2px rgba(0, 0, 0, 0.3));\n",
              "    fill: #FFFFFF;\n",
              "  }\n",
              "</style>\n",
              "\n",
              "    <script>\n",
              "      async function quickchart(key) {\n",
              "        const containerElement = document.querySelector('#' + key);\n",
              "        const charts = await google.colab.kernel.invokeFunction(\n",
              "            'suggestCharts', [key], {});\n",
              "      }\n",
              "    </script>\n",
              "\n",
              "      <script>\n",
              "\n",
              "function displayQuickchartButton(domScope) {\n",
              "  let quickchartButtonEl =\n",
              "    domScope.querySelector('#df-a0bf0bf2-f1ce-4eb3-8730-f1dfe7184ebc button.colab-df-quickchart');\n",
              "  quickchartButtonEl.style.display =\n",
              "    google.colab.kernel.accessAllowed ? 'block' : 'none';\n",
              "}\n",
              "\n",
              "        displayQuickchartButton(document);\n",
              "      </script>\n",
              "      <style>\n",
              "    .colab-df-container {\n",
              "      display:flex;\n",
              "      flex-wrap:wrap;\n",
              "      gap: 12px;\n",
              "    }\n",
              "\n",
              "    .colab-df-convert {\n",
              "      background-color: #E8F0FE;\n",
              "      border: none;\n",
              "      border-radius: 50%;\n",
              "      cursor: pointer;\n",
              "      display: none;\n",
              "      fill: #1967D2;\n",
              "      height: 32px;\n",
              "      padding: 0 0 0 0;\n",
              "      width: 32px;\n",
              "    }\n",
              "\n",
              "    .colab-df-convert:hover {\n",
              "      background-color: #E2EBFA;\n",
              "      box-shadow: 0px 1px 2px rgba(60, 64, 67, 0.3), 0px 1px 3px 1px rgba(60, 64, 67, 0.15);\n",
              "      fill: #174EA6;\n",
              "    }\n",
              "\n",
              "    [theme=dark] .colab-df-convert {\n",
              "      background-color: #3B4455;\n",
              "      fill: #D2E3FC;\n",
              "    }\n",
              "\n",
              "    [theme=dark] .colab-df-convert:hover {\n",
              "      background-color: #434B5C;\n",
              "      box-shadow: 0px 1px 3px 1px rgba(0, 0, 0, 0.15);\n",
              "      filter: drop-shadow(0px 1px 2px rgba(0, 0, 0, 0.3));\n",
              "      fill: #FFFFFF;\n",
              "    }\n",
              "  </style>\n",
              "\n",
              "      <script>\n",
              "        const buttonEl =\n",
              "          document.querySelector('#df-e02a3c58-fc80-411a-8dbf-6d6fcbd21743 button.colab-df-convert');\n",
              "        buttonEl.style.display =\n",
              "          google.colab.kernel.accessAllowed ? 'block' : 'none';\n",
              "\n",
              "        async function convertToInteractive(key) {\n",
              "          const element = document.querySelector('#df-e02a3c58-fc80-411a-8dbf-6d6fcbd21743');\n",
              "          const dataTable =\n",
              "            await google.colab.kernel.invokeFunction('convertToInteractive',\n",
              "                                                     [key], {});\n",
              "          if (!dataTable) return;\n",
              "\n",
              "          const docLinkHtml = 'Like what you see? Visit the ' +\n",
              "            '<a target=\"_blank\" href=https://colab.research.google.com/notebooks/data_table.ipynb>data table notebook</a>'\n",
              "            + ' to learn more about interactive tables.';\n",
              "          element.innerHTML = '';\n",
              "          dataTable['output_type'] = 'display_data';\n",
              "          await google.colab.output.renderOutput(dataTable, element);\n",
              "          const docLink = document.createElement('div');\n",
              "          docLink.innerHTML = docLinkHtml;\n",
              "          element.appendChild(docLink);\n",
              "        }\n",
              "      </script>\n",
              "    </div>\n",
              "  </div>\n"
            ],
            "text/plain": [
              "                                                   News  \\\n",
              "0     Peugeot deal boosts Mitsubishi\\n\\nStruggling J...   \n",
              "1     Jobs growth still slow in the US\\n\\nThe US cre...   \n",
              "2     Call centre users 'lose patience'\\n\\nCustomers...   \n",
              "3     Yukos unit buyer faces loan claim\\n\\nThe owner...   \n",
              "4     Ad sales boost Time Warner profit\\n\\nQuarterly...   \n",
              "...                                                 ...   \n",
              "3843  US cyber security chief resigns\\n\\nThe man mak...   \n",
              "3844  New consoles promise big problems\\n\\nMaking ga...   \n",
              "3845  Be careful how you code\\n\\nA new European dire...   \n",
              "3846  BT program to beat dialler scams\\n\\nBT is intr...   \n",
              "3847  TV's future down the phone line\\n\\nInternet TV...   \n",
              "\n",
              "                                                Summary     Field  \n",
              "0     Struggling Japanese car maker Mitsubishi Motor...  Business  \n",
              "1     The job gains mean that President Bush can cel...  Business  \n",
              "2     The drop in patience comes as the number of ca...  Business  \n",
              "3     Yukos' owner Menatep Group says it will ask Ro...  Business  \n",
              "4     TimeWarner said fourth quarter sales rose 2% t...  Business  \n",
              "...                                                 ...       ...  \n",
              "3843  Amit Yoran was director of the National Cyber ...      Tech  \n",
              "3844  Mr Walsh suggested that new studios should mak...      Tech  \n",
              "3845  This goes to the heart of the European project...      Tech  \n",
              "3846  BT is introducing two initiatives to help beat...      Tech  \n",
              "3847  Last year, he said, was all about deal making ...      Tech  \n",
              "\n",
              "[3848 rows x 3 columns]"
            ]
          },
          "execution_count": 22,
          "metadata": {},
          "output_type": "execute_result"
        }
      ],
      "source": [
        "df"
      ]
    },
    {
      "cell_type": "code",
      "execution_count": null,
      "metadata": {
        "id": "WY9d0UXgqq20"
      },
      "outputs": [],
      "source": [
        "df.to_csv('/content/drive/MyDrive/FullText.csv')"
      ]
    },
    {
      "cell_type": "code",
      "execution_count": null,
      "metadata": {
        "id": "w4DEo4S_LmtE"
      },
      "outputs": [],
      "source": []
    },
    {
      "cell_type": "code",
      "execution_count": null,
      "metadata": {
        "id": "YBMGzAvylQRv"
      },
      "outputs": [],
      "source": []
    },
    {
      "cell_type": "code",
      "execution_count": null,
      "metadata": {
        "id": "skNnME8SlQXH"
      },
      "outputs": [],
      "source": []
    },
    {
      "cell_type": "code",
      "execution_count": null,
      "metadata": {
        "id": "Pt5QjwVWlQmJ"
      },
      "outputs": [],
      "source": []
    },
    {
      "cell_type": "code",
      "execution_count": null,
      "metadata": {
        "id": "xlwsHeAblQpv"
      },
      "outputs": [],
      "source": []
    },
    {
      "cell_type": "code",
      "execution_count": null,
      "metadata": {
        "id": "72aTqnoqlQtg"
      },
      "outputs": [],
      "source": []
    },
    {
      "cell_type": "code",
      "execution_count": null,
      "metadata": {
        "id": "7vAElByclQxU"
      },
      "outputs": [],
      "source": []
    },
    {
      "cell_type": "code",
      "execution_count": null,
      "metadata": {
        "id": "ZEsANJYwlQ07"
      },
      "outputs": [],
      "source": []
    },
    {
      "cell_type": "code",
      "execution_count": null,
      "metadata": {
        "id": "0lk5jcq5lQ4u"
      },
      "outputs": [],
      "source": []
    },
    {
      "cell_type": "code",
      "execution_count": null,
      "metadata": {
        "id": "3gQSFEJmlQ9N"
      },
      "outputs": [],
      "source": []
    },
    {
      "cell_type": "code",
      "execution_count": null,
      "metadata": {
        "id": "SkvmBrgelRBB"
      },
      "outputs": [],
      "source": []
    },
    {
      "cell_type": "code",
      "execution_count": null,
      "metadata": {
        "id": "7Y-zmiJQlREk"
      },
      "outputs": [],
      "source": []
    },
    {
      "cell_type": "code",
      "execution_count": null,
      "metadata": {
        "id": "v74LFlg1lRI6"
      },
      "outputs": [],
      "source": []
    },
    {
      "cell_type": "code",
      "execution_count": null,
      "metadata": {
        "id": "Iq51Bt6rlROU"
      },
      "outputs": [],
      "source": []
    },
    {
      "cell_type": "code",
      "execution_count": null,
      "metadata": {
        "id": "HxPGadjDlRSX"
      },
      "outputs": [],
      "source": []
    },
    {
      "cell_type": "code",
      "execution_count": null,
      "metadata": {
        "id": "BBsVUl-llRYw"
      },
      "outputs": [],
      "source": []
    },
    {
      "cell_type": "code",
      "execution_count": null,
      "metadata": {
        "id": "YHLiR4UElRdl"
      },
      "outputs": [],
      "source": []
    },
    {
      "cell_type": "code",
      "execution_count": null,
      "metadata": {
        "id": "fAXmIx9xlRhg"
      },
      "outputs": [],
      "source": []
    },
    {
      "cell_type": "code",
      "execution_count": null,
      "metadata": {
        "id": "bgKMBK6PlRm2"
      },
      "outputs": [],
      "source": []
    },
    {
      "cell_type": "code",
      "execution_count": null,
      "metadata": {
        "id": "TNafpgzPlRrC"
      },
      "outputs": [],
      "source": []
    },
    {
      "cell_type": "code",
      "execution_count": null,
      "metadata": {
        "id": "FKTjhqHtlRu_"
      },
      "outputs": [],
      "source": []
    },
    {
      "cell_type": "code",
      "execution_count": null,
      "metadata": {
        "id": "z3NJLtB7lRzM"
      },
      "outputs": [],
      "source": []
    },
    {
      "cell_type": "code",
      "execution_count": null,
      "metadata": {
        "id": "25wbnjKclR2u"
      },
      "outputs": [],
      "source": []
    },
    {
      "cell_type": "code",
      "execution_count": null,
      "metadata": {
        "id": "KuCXJnQLGAiQ"
      },
      "outputs": [],
      "source": []
    },
    {
      "cell_type": "code",
      "execution_count": null,
      "metadata": {
        "id": "ZguTaQXnGAlI"
      },
      "outputs": [],
      "source": []
    }
  ],
  "metadata": {
    "accelerator": "GPU",
    "colab": {
      "machine_shape": "hm",
      "provenance": []
    },
    "kernelspec": {
      "display_name": "Python 3",
      "name": "python3"
    },
    "language_info": {
      "name": "python"
    }
  },
  "nbformat": 4,
  "nbformat_minor": 0
}